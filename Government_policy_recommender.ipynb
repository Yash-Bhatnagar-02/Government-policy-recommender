{
  "nbformat": 4,
  "nbformat_minor": 0,
  "metadata": {
    "colab": {
      "provenance": [],
      "authorship_tag": "ABX9TyPulqNwLayyiuKyJkVK72Q7",
      "include_colab_link": true
    },
    "kernelspec": {
      "name": "python3",
      "display_name": "Python 3"
    },
    "language_info": {
      "name": "python"
    }
  },
  "cells": [
    {
      "cell_type": "markdown",
      "metadata": {
        "id": "view-in-github",
        "colab_type": "text"
      },
      "source": [
        "<a href=\"https://colab.research.google.com/github/Yash-Bhatnagar-02/Government-policy-recommender/blob/main/Government_policy_recommender.ipynb\" target=\"_parent\"><img src=\"https://colab.research.google.com/assets/colab-badge.svg\" alt=\"Open In Colab\"/></a>"
      ]
    },
    {
      "cell_type": "code",
      "execution_count": 5,
      "metadata": {
        "id": "qkyIaEygotlE"
      },
      "outputs": [],
      "source": [
        "import pandas as pd\n",
        "from sklearn.feature_extraction.text import TfidfVectorizer\n",
        "from sklearn.metrics.pairwise import cosine_similarity\n",
        "import numpy as np\n"
      ]
    },
    {
      "cell_type": "code",
      "source": [
        "def preprocess_data(file_path):\n",
        "    df = pd.read_csv(file_path)\n",
        "    df.fillna(\"Unknown\", inplace=True)\n",
        "    df['combined_features'] = df[['Eligibility', 'Details', 'Age', 'Gender', 'State', 'Occupation', 'Category']].apply(lambda x: ' '.join(x), axis=1)\n",
        "\n",
        "    return df"
      ],
      "metadata": {
        "id": "Cgxoge0tpH8V"
      },
      "execution_count": 6,
      "outputs": []
    },
    {
      "cell_type": "code",
      "source": [
        "def train_model(df):\n",
        "    vectorizer = TfidfVectorizer(stop_words='english')\n",
        "    tfidf_matrix = vectorizer.fit_transform(df['combined_features'])\n",
        "\n",
        "    return vectorizer, tfidf_matrix"
      ],
      "metadata": {
        "id": "zB-W-AsipAxj"
      },
      "execution_count": 7,
      "outputs": []
    },
    {
      "cell_type": "code",
      "source": [
        "def recommend_schemes(user_input, df, vectorizer, tfidf_matrix, top_n=5):\n",
        "    user_vector = vectorizer.transform([user_input])\n",
        "\n",
        "    similarity_scores = cosine_similarity(user_vector, tfidf_matrix).flatten()\n",
        "\n",
        "    top_indices = np.argsort(similarity_scores)[-top_n:][::-1]\n",
        "    recommendations = df.iloc[top_indices][['Scheme Name', 'Details', 'Apply Link']]\n",
        "    return recommendations"
      ],
      "metadata": {
        "id": "es_WCujmpSTn"
      },
      "execution_count": 8,
      "outputs": []
    },
    {
      "cell_type": "code",
      "source": [
        "file_path = \"Gov schemes.csv\"\n",
        "df = preprocess_data(file_path)\n",
        "vectorizer, tfidf_matrix = train_model(df)"
      ],
      "metadata": {
        "id": "9e8yx3kApbaP"
      },
      "execution_count": 9,
      "outputs": []
    },
    {
      "cell_type": "code",
      "source": [
        "user_input = \"Female aged 25 from Maharashtra looking for financial support schemes\"\n",
        "recommended_schemes = recommend_schemes(user_input, df, vectorizer, tfidf_matrix)\n",
        "\n",
        "for index, row in recommended_schemes.iterrows():\n",
        "    print(f\"Scheme Name: {row['Scheme Name']}\\nDetails: {row['Details']}\\nApply Link: {row['Apply Link']}\\n\")"
      ],
      "metadata": {
        "colab": {
          "base_uri": "https://localhost:8080/",
          "height": 0
        },
        "id": "xZz3in5_pfJd",
        "outputId": "9d643b3b-4b61-4ef9-8d6d-dc4df5363118"
      },
      "execution_count": 12,
      "outputs": [
        {
          "output_type": "stream",
          "name": "stdout",
          "text": [
            "Scheme Name: Lakshmir Bhandar\n",
            "Details: Monthly financial assistance to women\n",
            "Apply Link: https://socialsecurity.wb.gov.in/login\n",
            "\n",
            "Scheme Name: National Scholarship Portal\n",
            "Details: Single portal for all scholarship schemes\n",
            "Apply Link: https://scholarships.gov.in/\n",
            "\n",
            "Scheme Name: Chief Minister's Employment Generation Programme\n",
            "Details: Subsidy for micro/small enterprises\n",
            "Apply Link: https://www.myscheme.gov.in/schemes/cmegp\n",
            "\n",
            "Scheme Name: Manodhairya Scheme\n",
            "Details: Financial assistance and rehabilitation for victims of crime\n",
            "Apply Link: https://womenchild.maharashtra.gov.in/\n",
            "\n",
            "Scheme Name: Mukhyamantri Vridhajan Pension Yojana\n",
            "Details: Pension scheme for elderly who are not covered under other schemes\n",
            "Apply Link: https://www.myscheme.gov.in/schemes/mvpy-bihar\n",
            "\n"
          ]
        }
      ]
    },
    {
      "cell_type": "code",
      "source": [],
      "metadata": {
        "id": "f1YqazZJpiWu"
      },
      "execution_count": null,
      "outputs": []
    },
    {
      "cell_type": "code",
      "source": [
        "user_input = \"Farmer aged 61 looking for financial support schemes\"\n",
        "recommended_schemes = recommend_schemes(user_input, df, vectorizer, tfidf_matrix)\n",
        "\n",
        "for index, row in recommended_schemes.iterrows():\n",
        "    print(f\"Scheme Name: {row['Scheme Name']}\\nDetails: {row['Details']}\\nApply Link: {row['Apply Link']}\\n\")"
      ],
      "metadata": {
        "colab": {
          "base_uri": "https://localhost:8080/",
          "height": 0
        },
        "id": "_W-J2oUTiZov",
        "outputId": "39e880c2-383a-4258-eab4-e30d90d368e2"
      },
      "execution_count": 11,
      "outputs": [
        {
          "output_type": "stream",
          "name": "stdout",
          "text": [
            "Scheme Name: YSR Rythu Bharosa\n",
            "Details: Financial assistance to farmer families\n",
            "Apply Link: https://services.india.gov.in/service/detail/ysr-raithu-bharosa-new-farmer-registration-andhra-pradesh-1\n",
            "\n",
            "Scheme Name: National Scholarship Portal\n",
            "Details: Single portal for all scholarship schemes\n",
            "Apply Link: https://scholarships.gov.in/\n",
            "\n",
            "Scheme Name: Mukhyamantri Vridhajan Pension Yojana\n",
            "Details: Pension scheme for elderly who are not covered under other schemes\n",
            "Apply Link: https://www.myscheme.gov.in/schemes/mvpy-bihar\n",
            "\n",
            "Scheme Name: Mukhya Mantri Krishi Samman Yojana\n",
            "Details: Financial assistance to farmers\n",
            "Apply Link: https://sikkim.gov.in/\n",
            "\n",
            "Scheme Name: Rythu Bandhu\n",
            "Details: Financial assistance to farmers\n",
            "Apply Link: https://gadwal.telangana.gov.in/scheme/rythu-bandhu-scheme/\n",
            "\n"
          ]
        }
      ]
    },
    {
      "cell_type": "code",
      "source": [
        "user_input = \"A student aged 21 looking for elibigle schemes\"\n",
        "recommended_schemes = recommend_schemes(user_input, df, vectorizer, tfidf_matrix)\n",
        "\n",
        "for index, row in recommended_schemes.iterrows():\n",
        "    print(f\"Scheme Name: {row['Scheme Name']}\\nDetails: {row['Details']}\\nApply Link: {row['Apply Link']}\\n\")"
      ],
      "metadata": {
        "colab": {
          "base_uri": "https://localhost:8080/",
          "height": 0
        },
        "id": "H1aprEWtpnbt",
        "outputId": "b4912e85-5329-4e11-ec05-342b9b752b46"
      },
      "execution_count": 13,
      "outputs": [
        {
          "output_type": "stream",
          "name": "stdout",
          "text": [
            "Scheme Name: National Scholarship Portal\n",
            "Details: Single portal for all scholarship schemes\n",
            "Apply Link: https://scholarships.gov.in/\n",
            "\n",
            "Scheme Name: Maulana Azad National Fellowship\n",
            "Details: Fellowship for minority students\n",
            "Apply Link: https://www.minorityaffairs.gov.in/show_content.php?lang=1&level=1&ls_id=625&lid=107\n",
            "\n",
            "Scheme Name: Mukhyamantri Vridhajan Pension Yojana\n",
            "Details: Pension scheme for elderly who are not covered under other schemes\n",
            "Apply Link: https://www.myscheme.gov.in/schemes/mvpy-bihar\n",
            "\n",
            "Scheme Name: Sandhya Suraksha Yojana\n",
            "Details: Monthly pension to elderly\n",
            "Apply Link: https://services.india.gov.in/service/detail/sandhya-suraksha-yojane\n",
            "\n",
            "Scheme Name: National Fellowship for SC Students\n",
            "Details: Financial support for higher education\n",
            "Apply Link: https://socialjustice.gov.in/schemes/29\n",
            "\n"
          ]
        }
      ]
    },
    {
      "cell_type": "code",
      "source": [],
      "metadata": {
        "id": "dM1iIhM9pyEE"
      },
      "execution_count": null,
      "outputs": []
    }
  ]
}